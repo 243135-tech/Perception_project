{
 "cells": [
  {
   "cell_type": "code",
   "execution_count": 1,
   "id": "55ca24a8-1579-4e35-a55c-c362e335d105",
   "metadata": {},
   "outputs": [],
   "source": [
    "import cv2\n",
    "import numpy as np\n",
    "from matplotlib import pyplot as plt\n",
    "import os"
   ]
  },
  {
   "cell_type": "code",
   "execution_count": 18,
   "id": "c556f44b-3823-4c25-afb7-5e4c45152a62",
   "metadata": {},
   "outputs": [
    {
     "name": "stdout",
     "output_type": "stream",
     "text": [
      "Disparity: 8.00 pixels\n",
      "Distance to the object: 5.30 meters\n"
     ]
    }
   ],
   "source": [
    "def calculate_distance_to_object(left_bbox, right_bbox, focal_length, baseline, img_left, img_right):\n",
    "    \"\"\"\n",
    "    Calculate the distance to an object using bounding box coordinates from left and right images,\n",
    "    along with the camera calibration parameters (focal length and baseline).\n",
    "    \n",
    "    Parameters:\n",
    "        left_bbox (tuple): Bounding box coordinates in the left image (left, top, right, bottom)\n",
    "        right_bbox (tuple): Bounding box coordinates in the right image (left, top, right, bottom)\n",
    "        focal_length (float): Focal length of the camera (in pixels)\n",
    "        baseline (float): Baseline distance between cameras (in meters)\n",
    "        img_left (ndarray): Left image (grayscale)\n",
    "        img_right (ndarray): Right image (grayscale)\n",
    "        \n",
    "    Returns:\n",
    "        float: Distance to the object (in meters)\n",
    "        float: Disparity between the left and right images (in pixels)\n",
    "    \"\"\"\n",
    "    \n",
    "    # Get the center of the bounding box in the left and right images\n",
    "    x_left = (left_bbox[0] + left_bbox[2]) / 2  # Average x of the left box\n",
    "    y_left = (left_bbox[1] + left_bbox[3]) / 2  # Average y of the left box\n",
    "    \n",
    "    x_right = (right_bbox[0] + right_bbox[2]) / 2  # Average x of the right box\n",
    "    y_right = (right_bbox[1] + right_bbox[3]) / 2  # Average y of the right box\n",
    "    \n",
    "    # Calculate disparity (horizontal pixel difference between the left and right image)\n",
    "    disparity = abs(x_left - x_right)\n",
    "    \n",
    "    if disparity == 0:\n",
    "        return float('inf'), disparity  # If disparity is zero, the object is too far away or at the same location\n",
    "    \n",
    "    # Calculate the distance to the object using the formula\n",
    "    distance = (focal_length * baseline) / disparity\n",
    "    \n",
    "    return distance, disparity\n",
    "\n",
    "\n",
    "# Load images (grayscale)\n",
    "img_left = cv2.imread(\"/Users/dani/Desktop/MS_AutonomousSystems/Perception_for_Autonomous_systems/Final project/34759_final_project_rect/seq_01/image_02/data/000000.png\", cv2.IMREAD_GRAYSCALE)\n",
    "img_right = cv2.imread(\"/Users/dani/Desktop/MS_AutonomousSystems/Perception_for_Autonomous_systems/Final project/34759_final_project_rect/seq_01/image_03/data/000000.png\", cv2.IMREAD_GRAYSCALE)\n",
    "\n",
    "# Example usage of the function\n",
    "left_bbox = (466.194319, 139.161762, 557.194320, 332.842544)  # Left image bounding box (left, top, right, bottom)\n",
    "right_bbox = (458.194319, 139.161762, 549.194320, 332.842544)  # Right image bounding box (left, top, right, bottom)\n",
    "\n",
    "# Camera parameters\n",
    "focal_length = 707.0493  # Example focal length in pixels (should match the calibration data)\n",
    "baseline = 0.06  # Example baseline in meters (distance between the cameras)\n",
    "\n",
    "# Call the function to calculate the distance and disparity\n",
    "distance, disparity = calculate_distance_to_object(left_bbox, right_bbox, focal_length, baseline, img_left, img_right)\n",
    "\n",
    "# Output the results\n",
    "print(f\"Disparity: {disparity:.2f} pixels\")\n",
    "print(f\"Distance to the object: {distance:.2f} meters\")\n",
    "\n"
   ]
  },
  {
   "cell_type": "code",
   "execution_count": 14,
   "id": "23bd38c2-de78-4c05-b78f-b2877b502678",
   "metadata": {},
   "outputs": [
    {
     "name": "stdout",
     "output_type": "stream",
     "text": [
      "The file exists.\n"
     ]
    }
   ],
   "source": [
    "import os\n",
    "\n",
    "# Path to the left image\n",
    "left_image_path = r\"/Users/dani/Desktop/MS_AutonomousSystems/Perception_for_Autonomous_systems/Final project/34759_final_project_rect/seq_01/image_02/data/000000.png\"\n",
    "\n",
    "# Check if the file exists\n",
    "if os.path.exists(left_image_path):\n",
    "    print(\"The file exists.\")\n",
    "else:\n",
    "    print(\"The file does not exist.\")\n",
    "    "
   ]
  },
  {
   "cell_type": "code",
   "execution_count": null,
   "id": "a09fe0da",
   "metadata": {},
   "outputs": [],
   "source": [
    "def get_bearing(camera_mtx, object_coord):\n",
    "    '''\n",
    "    Calculation of bearing from object relative to the camera\n",
    "    camera_mtx is the camera matrix with its intrinsics: fx, fy, cx, cy\n",
    "    object_coord are the coordinates of the object in the image frame: u, v\n",
    "    '''\n",
    "    fx = camera_mtx[0][0]\n",
    "    cx = camera_mtx[0][2]\n",
    "    x = object_coord[0]\n",
    "    norm_x = (x - cx) / fx\n",
    "    bearing = np.arctan(norm_x)\n",
    "\n",
    "    bearing = (bearing + np.pi) % (2 * np.pi) - np.pi\n",
    "\n",
    "    return bearing\n",
    "\n"
   ]
  }
 ],
 "metadata": {
  "kernelspec": {
   "display_name": "open3d-env",
   "language": "python",
   "name": "python3"
  },
  "language_info": {
   "codemirror_mode": {
    "name": "ipython",
    "version": 3
   },
   "file_extension": ".py",
   "mimetype": "text/x-python",
   "name": "python",
   "nbconvert_exporter": "python",
   "pygments_lexer": "ipython3",
   "version": "3.8.20"
  }
 },
 "nbformat": 4,
 "nbformat_minor": 5
}
